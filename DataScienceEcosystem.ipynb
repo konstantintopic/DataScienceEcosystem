{
 "cells": [
  {
   "cell_type": "markdown",
   "id": "8fc6398d",
   "metadata": {},
   "source": [
    "<h1> Data Science Tools and Ecosystem </h1>"
   ]
  },
  {
   "cell_type": "markdown",
   "id": "83430c36",
   "metadata": {},
   "source": [
    "In this notebook, Data Science Tools and Ecosystem are summarized."
   ]
  },
  {
   "cell_type": "markdown",
   "id": "0cd648f6",
   "metadata": {},
   "source": [
    "**Objectives:**\n",
    "- Lists popular languages for Data Science\n",
    "- Lists popular libraries for Data Science\n",
    "- Lists popular tools for Data Science\n"
   ]
  },
  {
   "cell_type": "markdown",
   "id": "5b23e4c8",
   "metadata": {},
   "source": [
    "Some of the popular languages that Data Scientists use are:"
   ]
  },
  {
   "cell_type": "markdown",
   "id": "0a7dd1f3",
   "metadata": {},
   "source": [
    "1. Python\n",
    "2. R\n",
    "3. SQL\n",
    "4. Java\n",
    "5. Julia\n",
    "6. Scala\n",
    "7. JavaScript"
   ]
  },
  {
   "cell_type": "markdown",
   "id": "23bd3afd",
   "metadata": {},
   "source": [
    "Some of the commonly used libraries used by Data Scientists include:"
   ]
  },
  {
   "cell_type": "markdown",
   "id": "b96a8b48",
   "metadata": {},
   "source": [
    "1. Pandas\n",
    "2. NumPy\n",
    "3. SciPy\n",
    "4. Tensorflow"
   ]
  },
  {
   "cell_type": "markdown",
   "id": "f8de7df4",
   "metadata": {},
   "source": [
    "| Data Science Tools |\n",
    "| --- | \n",
    "| Jupyter Notebooks |\n",
    "| Tableau |\n",
    "| VS Code |"
   ]
  },
  {
   "cell_type": "markdown",
   "id": "40da59c6",
   "metadata": {},
   "source": [
    "<h3> Below are a few examples of evaluating arithmetic expressions in Python </H3>"
   ]
  },
  {
   "cell_type": "code",
   "execution_count": 5,
   "id": "1d28178d",
   "metadata": {},
   "outputs": [
    {
     "data": {
      "text/plain": [
       "17"
      ]
     },
     "execution_count": 5,
     "metadata": {},
     "output_type": "execute_result"
    }
   ],
   "source": [
    "(3*4)+5 \n",
    "# This a simple arithmetic expression to mutiply then add integers"
   ]
  },
  {
   "cell_type": "code",
   "execution_count": 10,
   "id": "ae8dd06f",
   "metadata": {},
   "outputs": [
    {
     "data": {
      "text/plain": [
       "3.3333333333333335"
      ]
     },
     "execution_count": 10,
     "metadata": {},
     "output_type": "execute_result"
    }
   ],
   "source": [
    "minutes = 200\n",
    "hours = minutes / 60\n",
    "hours\n",
    "# This will convert 200 minutes to hours by diving by 60"
   ]
  },
  {
   "cell_type": "markdown",
   "id": "4a4a5444",
   "metadata": {},
   "source": [
    "<h2> Author </h2>\n",
    "Konstantin Topic"
   ]
  },
  {
   "cell_type": "code",
   "execution_count": null,
   "id": "1b63cc81",
   "metadata": {},
   "outputs": [],
   "source": []
  }
 ],
 "metadata": {
  "kernelspec": {
   "display_name": "Python 3 (ipykernel)",
   "language": "python",
   "name": "python3"
  },
  "language_info": {
   "codemirror_mode": {
    "name": "ipython",
    "version": 3
   },
   "file_extension": ".py",
   "mimetype": "text/x-python",
   "name": "python",
   "nbconvert_exporter": "python",
   "pygments_lexer": "ipython3",
   "version": "3.10.9"
  }
 },
 "nbformat": 4,
 "nbformat_minor": 5
}
